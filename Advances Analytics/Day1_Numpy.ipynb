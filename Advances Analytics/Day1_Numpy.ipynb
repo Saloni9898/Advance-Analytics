{
 "cells": [
  {
   "cell_type": "code",
   "execution_count": 19,
   "id": "3c7256d8-fe31-4d42-b91f-c6215ef703be",
   "metadata": {},
   "outputs": [],
   "source": [
    "import numpy as np"
   ]
  },
  {
   "cell_type": "code",
   "execution_count": 13,
   "id": "e66df056-fd8e-46c6-8895-08421d2a3211",
   "metadata": {},
   "outputs": [
    {
     "data": {
      "text/plain": [
       "array([1, 2, 3, 4])"
      ]
     },
     "execution_count": 13,
     "metadata": {},
     "output_type": "execute_result"
    }
   ],
   "source": [
    "arr1 = np.array([1,2,3,4]) ## 1D array from list\n",
    "arr1"
   ]
  },
  {
   "cell_type": "code",
   "execution_count": 15,
   "id": "bf10bdae-004c-4de2-ba31-ea5dc4a5158c",
   "metadata": {},
   "outputs": [
    {
     "data": {
      "text/plain": [
       "array([[1, 2, 3],\n",
       "       [4, 5, 6]])"
      ]
     },
     "execution_count": 15,
     "metadata": {},
     "output_type": "execute_result"
    }
   ],
   "source": [
    "arr2 = np.array([[1,2,3],[4,5,6]]) ## 2D array from list\n",
    "arr2"
   ]
  },
  {
   "cell_type": "code",
   "execution_count": 17,
   "id": "e6da257d-6d32-4cfa-9c41-ce85081d7b77",
   "metadata": {},
   "outputs": [
    {
     "data": {
      "text/plain": [
       "array([7, 8, 9])"
      ]
     },
     "execution_count": 17,
     "metadata": {},
     "output_type": "execute_result"
    }
   ],
   "source": [
    "arr3 = np.array((7,8,9)) ## 1D array from tuple\n",
    "arr3"
   ]
  },
  {
   "cell_type": "code",
   "execution_count": 73,
   "id": "67aa8af9-0805-44a9-a9a8-6bd96b7108ec",
   "metadata": {},
   "outputs": [
    {
     "data": {
      "text/plain": [
       "array([[0., 0., 0.],\n",
       "       [0., 0., 0.]])"
      ]
     },
     "execution_count": 73,
     "metadata": {},
     "output_type": "execute_result"
    }
   ],
   "source": [
    "zeros = np.zeros((2,3)) ## 2x3 array of zeros\n",
    "zeros"
   ]
  },
  {
   "cell_type": "code",
   "execution_count": 75,
   "id": "05560e24-a535-47eb-9ccb-e63c7c14853e",
   "metadata": {},
   "outputs": [
    {
     "data": {
      "text/plain": [
       "array([[1., 1.],\n",
       "       [1., 1.],\n",
       "       [1., 1.]])"
      ]
     },
     "execution_count": 75,
     "metadata": {},
     "output_type": "execute_result"
    }
   ],
   "source": [
    "ones = np.ones((3,2)) ##3x2 array of ones\n",
    "ones"
   ]
  },
  {
   "cell_type": "code",
   "execution_count": 77,
   "id": "23d3e5f6-97ea-4202-857c-028871aca30c",
   "metadata": {},
   "outputs": [
    {
     "data": {
      "text/plain": [
       "array([[1., 0., 0.],\n",
       "       [0., 1., 0.],\n",
       "       [0., 0., 1.]])"
      ]
     },
     "execution_count": 77,
     "metadata": {},
     "output_type": "execute_result"
    }
   ],
   "source": [
    "identity = np.eye(3) ##3x3 identity matrix\n",
    "identity"
   ]
  },
  {
   "cell_type": "code",
   "execution_count": 89,
   "id": "38aa58b0-041b-4f79-a251-363565db5776",
   "metadata": {},
   "outputs": [
    {
     "data": {
      "text/plain": [
       "array([[1.02986250e-311, 2.81617418e-322, 0.00000000e+000,\n",
       "        0.00000000e+000],\n",
       "       [1.11260619e-306, 6.82116729e-043, 5.45292150e-090,\n",
       "        1.02290481e+166],\n",
       "       [5.44890177e-067, 6.28102225e+174, 6.48224659e+170,\n",
       "        4.93432906e+257]])"
      ]
     },
     "execution_count": 89,
     "metadata": {},
     "output_type": "execute_result"
    }
   ],
   "source": [
    "empty1= np.empty((3,4)) ##unintialized array\n",
    "empty1"
   ]
  },
  {
   "cell_type": "code",
   "execution_count": 81,
   "id": "e238a812-256f-4199-9142-b11b0d0689b5",
   "metadata": {},
   "outputs": [
    {
     "data": {
      "text/plain": [
       "array([[7, 7, 7],\n",
       "       [7, 7, 7],\n",
       "       [7, 7, 7]])"
      ]
     },
     "execution_count": 81,
     "metadata": {},
     "output_type": "execute_result"
    }
   ],
   "source": [
    "full = np.full((3,3),7) ### 2x2 array filled with 7\n",
    "full"
   ]
  },
  {
   "cell_type": "code",
   "execution_count": 47,
   "id": "44d7d8cb-569d-4277-8f14-f0ad96164c52",
   "metadata": {},
   "outputs": [
    {
     "data": {
      "text/plain": [
       "array([0, 2, 4, 6, 8])"
      ]
     },
     "execution_count": 47,
     "metadata": {},
     "output_type": "execute_result"
    }
   ],
   "source": [
    "#creating array with range\n",
    "\n",
    "range_arr = np.arange(0,10,2) ###gives 1D array with 2 gap between each element\n",
    "range_arr"
   ]
  },
  {
   "cell_type": "code",
   "execution_count": 99,
   "id": "c063ca6a-688c-4907-8829-d9e613a6f68a",
   "metadata": {},
   "outputs": [
    {
     "data": {
      "text/plain": [
       "array([0. , 0.2, 0.4, 0.6, 0.8, 1. ])"
      ]
     },
     "execution_count": 99,
     "metadata": {},
     "output_type": "execute_result"
    }
   ],
   "source": [
    "linspace_arr = np.linspace(0,1,6) ##gives 5 elements between 0 to 1\n",
    "linspace_arr"
   ]
  },
  {
   "cell_type": "code",
   "execution_count": 53,
   "id": "5d4ed011-fa84-42d0-ac07-c15af5cda57f",
   "metadata": {},
   "outputs": [
    {
     "data": {
      "text/plain": [
       "array([[0.27048772, 0.67831245, 0.13732954],\n",
       "       [0.53624702, 0.98030046, 0.10157955]])"
      ]
     },
     "execution_count": 53,
     "metadata": {},
     "output_type": "execute_result"
    }
   ],
   "source": [
    "rand = np.random.rand(2,3) ### 2x3 matrix of values between 0 to 1\n",
    "rand"
   ]
  },
  {
   "cell_type": "code",
   "execution_count": 57,
   "id": "9954cf9f-ba53-4341-beea-0f97c60d4f46",
   "metadata": {},
   "outputs": [
    {
     "data": {
      "text/plain": [
       "array([[4, 8],\n",
       "       [5, 4]])"
      ]
     },
     "execution_count": 57,
     "metadata": {},
     "output_type": "execute_result"
    }
   ],
   "source": [
    "rand_int = np.random.randint(1,10,(2,2)) ##gives integer values between 1 to 10\n",
    "rand_int"
   ]
  },
  {
   "cell_type": "code",
   "execution_count": 59,
   "id": "99d56cdd-d995-4da5-8829-9d34bf25eb79",
   "metadata": {},
   "outputs": [
    {
     "data": {
      "text/plain": [
       "array([[-0.29902948,  6.33861309,  5.87091633],\n",
       "       [ 4.27795617,  3.57793059,  5.49249786]])"
      ]
     },
     "execution_count": 59,
     "metadata": {},
     "output_type": "execute_result"
    }
   ],
   "source": [
    "rand_custom_normal = np.random.normal(5,2,(2,3)) ### normal distribution with mean=5 and std = 2\n",
    "rand_custom_normal"
   ]
  },
  {
   "cell_type": "code",
   "execution_count": 101,
   "id": "4a3d3eaf-1f1f-4fbf-8a70-9f4d11875108",
   "metadata": {},
   "outputs": [
    {
     "data": {
      "text/plain": [
       "array([[-0.29902948,  6.33861309,  5.87091633],\n",
       "       [ 4.27795617,  3.57793059,  5.49249786]])"
      ]
     },
     "execution_count": 101,
     "metadata": {},
     "output_type": "execute_result"
    }
   ],
   "source": [
    "rand__normal = np.random.randn(2,3) #Random numbers from standard normal distribution \n",
    "rand_normal"
   ]
  },
  {
   "cell_type": "code",
   "execution_count": 21,
   "id": "56f0ccc2-3281-4d9d-8b07-5a5b2b869592",
   "metadata": {},
   "outputs": [
    {
     "data": {
      "text/plain": [
       "array([[ 0,  1,  2,  3],\n",
       "       [ 4,  5,  6,  7],\n",
       "       [ 8,  9, 10, 11]])"
      ]
     },
     "execution_count": 21,
     "metadata": {},
     "output_type": "execute_result"
    }
   ],
   "source": [
    "reshaped = np.arange(12).reshape(3,4) ###1D array to 3x4\n",
    "reshaped"
   ]
  },
  {
   "cell_type": "code",
   "execution_count": 23,
   "id": "25774ea1-c966-40e9-8300-d6b9a39c4c12",
   "metadata": {},
   "outputs": [
    {
     "data": {
      "text/plain": [
       "array([[0, 0, 0, 0],\n",
       "       [0, 0, 0, 0],\n",
       "       [0, 0, 0, 0]])"
      ]
     },
     "execution_count": 23,
     "metadata": {},
     "output_type": "execute_result"
    }
   ],
   "source": [
    "init_like = np.zeros_like(reshaped) ##arrays of zeros witth same shape as reshaped\n",
    "init_like"
   ]
  },
  {
   "cell_type": "code",
   "execution_count": 29,
   "id": "34ffd136-4803-48fa-b873-9aceb3e421e4",
   "metadata": {},
   "outputs": [
    {
     "name": "stdout",
     "output_type": "stream",
     "text": [
      "Initial Array [ 0  1  2  3  4  5  6  7  8  9 10]\n"
     ]
    }
   ],
   "source": [
    "arr = np.arange(0,11) # Creating sample array\n",
    "print(\"Initial Array\", arr)"
   ]
  },
  {
   "cell_type": "code",
   "execution_count": 31,
   "id": "fc86bc2b-0ae3-4c55-a62b-39fa214ffafd",
   "metadata": {},
   "outputs": [
    {
     "name": "stdout",
     "output_type": "stream",
     "text": [
      "Value at Index 8\n"
     ]
    }
   ],
   "source": [
    "#Bracket Indexing and Selection\n",
    "#Get a value at index\n",
    "print(\"Value at Index\", arr[8])"
   ]
  },
  {
   "cell_type": "code",
   "execution_count": 41,
   "id": "e4e571cd-b427-4ccf-9a6b-a8c11a253582",
   "metadata": {},
   "outputs": [
    {
     "name": "stdout",
     "output_type": "stream",
     "text": [
      "Values in range 1 to 5 [1 2 3 4]\n",
      "Values in range 0 to 5 [0 1 2 3 4]\n"
     ]
    }
   ],
   "source": [
    "#Get values in range \n",
    "print(\"Values in range 1 to 5\", arr[1:5])\n",
    "print(\"Values in range 0 to 5\", arr[0:5])"
   ]
  },
  {
   "cell_type": "code",
   "execution_count": 47,
   "id": "8a26e07e-fe07-43fa-89b5-9d567d3ff86b",
   "metadata": {},
   "outputs": [
    {
     "name": "stdout",
     "output_type": "stream",
     "text": [
      "After broadcasting with 100 [100 100 100 100 100   5   6   7   8   9  10]\n"
     ]
    }
   ],
   "source": [
    "#Broadcasting \n",
    "#Setting values with index range\n",
    "arr[0:5] = 100\n",
    "print(\"After broadcasting with 100\", arr)"
   ]
  },
  {
   "cell_type": "code",
   "execution_count": 49,
   "id": "7dc4848d-790f-475c-b9d3-3a7d7019abb6",
   "metadata": {},
   "outputs": [
    {
     "name": "stdout",
     "output_type": "stream",
     "text": [
      "Print arr [ 0  1  2  3  4  5  6  7  8  9 10]\n"
     ]
    }
   ],
   "source": [
    "#Reset array\n",
    "\n",
    "arr = np.arange(0,11)\n",
    "print(\"Print arr\", arr)"
   ]
  },
  {
   "cell_type": "code",
   "execution_count": 51,
   "id": "6a8698f7-8662-49b5-9888-afdb7aa42eb1",
   "metadata": {},
   "outputs": [
    {
     "name": "stdout",
     "output_type": "stream",
     "text": [
      "Slice of array [0:6] [0 1 2 3 4 5]\n"
     ]
    }
   ],
   "source": [
    "#Important notes on slices\n",
    "slices_of_arr = arr[0:6]\n",
    "print(\"Slice of array [0:6]\", arr[0:6])"
   ]
  },
  {
   "cell_type": "code",
   "execution_count": 53,
   "id": "5fa594ac-2794-4503-aa09-b52103ff0b76",
   "metadata": {},
   "outputs": [
    {
     "name": "stdout",
     "output_type": "stream",
     "text": [
      "After modifying  [99 99 99 99 99 99  6  7  8  9 10]\n"
     ]
    }
   ],
   "source": [
    "#CHange slice\n",
    "slices_of_arr[:] = 99\n",
    "print(\"After modifying \", arr)"
   ]
  },
  {
   "cell_type": "code",
   "execution_count": 57,
   "id": "878cc6f7-0370-4680-86fd-8519782550e1",
   "metadata": {},
   "outputs": [
    {
     "name": "stdout",
     "output_type": "stream",
     "text": [
      "Copy of array [99 99 99 99 99 99  6  7  8  9 10]\n",
      "Original Array and copid array [99 99 99 99 99 99  6  7  8  9 10] [22 22 22 22 22 22 22 22 22 22 22]\n"
     ]
    }
   ],
   "source": [
    "#To get a copy\n",
    "arr_copy = arr.copy()\n",
    "print(\"Copy of array\", arr_copy)\n",
    "\n",
    "arr_copy[:] = 22\n",
    "print(\"Original Array and copid array\", arr, arr_copy)"
   ]
  },
  {
   "cell_type": "code",
   "execution_count": 61,
   "id": "ee2fa3ad-dc25-476e-8ee0-989648160d98",
   "metadata": {},
   "outputs": [
    {
     "name": "stdout",
     "output_type": "stream",
     "text": [
      "2D array [[ 5 10 15]\n",
      " [20 25 30]\n",
      " [35 40 45]]\n"
     ]
    }
   ],
   "source": [
    "#2D arrays\n",
    "arr_2d = np.array(([5,10,15], [20,25,30], [35,40,45]))\n",
    "print(\"2D array\", arr_2d)\n"
   ]
  },
  {
   "cell_type": "code",
   "execution_count": 63,
   "id": "8da72e79-5413-4dd0-a877-ada7961bb3e3",
   "metadata": {},
   "outputs": [
    {
     "name": "stdout",
     "output_type": "stream",
     "text": [
      "Seconf row of 2D array [20 25 30]\n"
     ]
    }
   ],
   "source": [
    "#Indexing row\n",
    "print(\"Seconf row of 2D array\", arr_2d[1])"
   ]
  },
  {
   "cell_type": "code",
   "execution_count": 71,
   "id": "97e41fb7-a776-4f70-aa8d-b10ade32894b",
   "metadata": {},
   "outputs": [
    {
     "name": "stdout",
     "output_type": "stream",
     "text": [
      "Element at [1,0]: 20\n",
      "Element at [1,0]: (alternative syntax) 20\n"
     ]
    }
   ],
   "source": [
    "#Getting individual element value\n",
    "print(\"Element at [1,0]:\", arr_2d[1][0])\n",
    "print(\"Element at [1,0]: (alternative syntax)\", arr_2d[1,0])"
   ]
  },
  {
   "cell_type": "code",
   "execution_count": 75,
   "id": "2bd74bc9-504e-4f1a-ad8b-7e7f57fcac2a",
   "metadata": {},
   "outputs": [
    {
     "name": "stdout",
     "output_type": "stream",
     "text": [
      "Shape (2,2) from top right corner:\n",
      " [[10 15]\n",
      " [25 30]]\n",
      "Shape (2,2) from top right corner:\n",
      "(alternative syntax) [35 40 45]\n"
     ]
    }
   ],
   "source": [
    "#2D slicing\n",
    "print(\"Shape (2,2) from top right corner:\\n\", arr_2d[:2, 1:])\n",
    "print(\"Shape (2,2) from top right corner:\\n(alternative syntax)\", arr_2d[2, :])"
   ]
  },
  {
   "cell_type": "code",
   "execution_count": 79,
   "id": "558b35c7-78df-4c38-aefb-edb19a943b8a",
   "metadata": {},
   "outputs": [
    {
     "name": "stdout",
     "output_type": "stream",
     "text": [
      "Array for conditional selection [ 1  2  3  4  5  6  7  8  9 10]\n"
     ]
    }
   ],
   "source": [
    "#Conditional Selection\n",
    "arr = np.arange(1,11)\n",
    "print(\"Array for conditional selection\",arr)"
   ]
  },
  {
   "cell_type": "code",
   "execution_count": 95,
   "id": "72693670-a5cc-4268-8ae8-5ac8eba9ecbc",
   "metadata": {},
   "outputs": [
    {
     "name": "stdout",
     "output_type": "stream",
     "text": [
      "conditional array > 4  [False False False False  True  True  True  True  True  True]\n",
      "conditional array > 4  [ 5  6  7  8  9 10]\n"
     ]
    }
   ],
   "source": [
    "#check  conditional\n",
    "print(\"conditional array > 4 \",arr>4)\n",
    "print(\"conditional array > 4 \",arr[arr>4])"
   ]
  },
  {
   "cell_type": "code",
   "execution_count": 89,
   "id": "6f0fca4e-e001-4b71-81b3-270911c1ca54",
   "metadata": {},
   "outputs": [
    {
     "name": "stdout",
     "output_type": "stream",
     "text": [
      "boolean array for array >4 [False False False False  True  True  True  True  True  True]\n"
     ]
    }
   ],
   "source": [
    "#store boolean array in another array\n",
    "bool_arr = arr >4\n",
    "print(\"boolean array for array >4\",bool_arr)"
   ]
  },
  {
   "cell_type": "code",
   "execution_count": 97,
   "id": "aafee595-d6a0-44e6-a307-0a5d4d89d9ef",
   "metadata": {},
   "outputs": [
    {
     "name": "stdout",
     "output_type": "stream",
     "text": [
      "printing values where condition is true [ 5  6  7  8  9 10]\n"
     ]
    }
   ],
   "source": [
    "#Select elements where condition is true\n",
    "\n",
    "print(\"printing values where condition is true\",arr[bool_arr])"
   ]
  },
  {
   "cell_type": "code",
   "execution_count": 99,
   "id": "d704f73b-cee7-4b60-8e97-52ec774e8bfc",
   "metadata": {},
   "outputs": [
    {
     "name": "stdout",
     "output_type": "stream",
     "text": [
      "conditional array > 2  [ 3  4  5  6  7  8  9 10]\n"
     ]
    }
   ],
   "source": [
    "#using condition directly in selection\n",
    "print(\"conditional array > 2 \",arr[arr>2])"
   ]
  },
  {
   "cell_type": "code",
   "execution_count": 105,
   "id": "b0b10568-b9ec-4fa4-b530-e13d7c0d8288",
   "metadata": {},
   "outputs": [
    {
     "name": "stdout",
     "output_type": "stream",
     "text": [
      "elements where  arr > x (x=2): [ 3  4  5  6  7  8  9 10]\n"
     ]
    }
   ],
   "source": [
    "#Using a variable for condition\n",
    "x = 2\n",
    "print(\"elements where  arr > x (x=2):\", arr[arr > x])"
   ]
  },
  {
   "cell_type": "code",
   "execution_count": 107,
   "id": "7492a023-0c4c-4458-b3ee-d4ff8b130258",
   "metadata": {},
   "outputs": [
    {
     "data": {
      "text/plain": [
       "array([1, 2, 3, 4, 5, 6, 7, 8, 9])"
      ]
     },
     "execution_count": 107,
     "metadata": {},
     "output_type": "execute_result"
    }
   ],
   "source": [
    "arr = np.arange(1,10)\n",
    "arr"
   ]
  },
  {
   "cell_type": "code",
   "execution_count": 131,
   "id": "3ff21081-a4cf-4390-ad64-d8bb0a616ffb",
   "metadata": {},
   "outputs": [
    {
     "name": "stdout",
     "output_type": "stream",
     "text": [
      "arr2 of 3x3: [[1 2 3]\n",
      " [4 5 6]\n",
      " [7 8 9]]\n",
      "(3, 3)\n",
      "9\n",
      "(9,)\n",
      "9\n"
     ]
    }
   ],
   "source": [
    "#shape of array\n",
    "arr2 = arr.reshape(3,3)\n",
    "print(\"arr2 of 3x3:\",arr2)\n",
    "print(arr2.shape)\n",
    "print(arr2.size) # gives rows x columns \n",
    "print(arr.shape)\n",
    "print(arr.size)"
   ]
  },
  {
   "cell_type": "markdown",
   "id": "201377f3-d838-45be-b5bb-df99ad467c77",
   "metadata": {},
   "source": [
    "Summary Statistics"
   ]
  },
  {
   "cell_type": "code",
   "execution_count": 115,
   "id": "e5865997-f2df-42bb-b050-b01e190d4353",
   "metadata": {},
   "outputs": [
    {
     "name": "stdout",
     "output_type": "stream",
     "text": [
      "Sum of elements: 45\n",
      "mean of elements: 5.0\n",
      "Maximum Value: 9\n",
      "Minimum value: 1\n",
      "Variance: 6.666666666666667\n",
      "Standard Deviation: 2.581988897471611\n"
     ]
    }
   ],
   "source": [
    "#Summary statistics\n",
    "print(\"Sum of elements:\",arr.sum())\n",
    "print(\"mean of elements:\", arr.mean())\n",
    "print(\"Maximum Value:\",arr.max())\n",
    "print(\"Minimum value:\",arr.min())\n",
    "print(\"Variance:\",arr.var())\n",
    "print(\"Standard Deviation:\",arr.std())"
   ]
  },
  {
   "cell_type": "code",
   "execution_count": null,
   "id": "e374fd8e-fd02-4f97-b1e5-14d4d1e2c2a8",
   "metadata": {},
   "outputs": [],
   "source": []
  }
 ],
 "metadata": {
  "kernelspec": {
   "display_name": "Python 3 (ipykernel)",
   "language": "python",
   "name": "python3"
  },
  "language_info": {
   "codemirror_mode": {
    "name": "ipython",
    "version": 3
   },
   "file_extension": ".py",
   "mimetype": "text/x-python",
   "name": "python",
   "nbconvert_exporter": "python",
   "pygments_lexer": "ipython3",
   "version": "3.12.4"
  }
 },
 "nbformat": 4,
 "nbformat_minor": 5
}
