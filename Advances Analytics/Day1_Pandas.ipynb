{
 "cells": [
  {
   "cell_type": "markdown",
   "id": "2caab6ca-fc09-4c80-92c6-b639f2b93408",
   "metadata": {},
   "source": [
    "# pandas "
   ]
  },
  {
   "cell_type": "code",
   "execution_count": 3,
   "id": "b270025e-d428-4d72-95a0-ce75e7308c30",
   "metadata": {},
   "outputs": [],
   "source": [
    "import numpy as np\n",
    "import pandas as pd"
   ]
  },
  {
   "cell_type": "markdown",
   "id": "bc929cee-3514-45d9-9042-50f29d7fa21e",
   "metadata": {},
   "source": [
    "numpy array has numeric index\n",
    "pandas series has a labelled index(data is internally still numerically organized)\n",
    "panda series we can have only one data column\n",
    "therefore pandas dataframe comes where we can have any number of data columns(multiple series with same index is dataframe)"
   ]
  },
  {
   "cell_type": "code",
   "execution_count": 6,
   "id": "e1a03c55-52c6-432e-921d-80256016f2af",
   "metadata": {},
   "outputs": [],
   "source": [
    "#Creating a pandas series\n",
    "myindex = ['USA','canada','England']\n",
    "mydata = [1776,1867,1821]"
   ]
  },
  {
   "cell_type": "code",
   "execution_count": 8,
   "id": "360cba34-171e-4e9b-80ec-72f03dd42697",
   "metadata": {},
   "outputs": [
    {
     "name": "stdout",
     "output_type": "stream",
     "text": [
      "Series with default index: \n",
      " 0    1776\n",
      "1    1867\n",
      "2    1821\n",
      "dtype: int64\n"
     ]
    }
   ],
   "source": [
    "#Series with default integer index\n",
    "myser = pd.Series(data = mydata)\n",
    "print(\"Series with default index: \\n\",myser)"
   ]
  },
  {
   "cell_type": "code",
   "execution_count": 10,
   "id": "33afcd34-88e7-4c50-898c-86f01da8b513",
   "metadata": {},
   "outputs": [
    {
     "name": "stdout",
     "output_type": "stream",
     "text": [
      "series with named index: \n",
      " USA        1776\n",
      "canada     1867\n",
      "England    1821\n",
      "dtype: int64\n"
     ]
    }
   ],
   "source": [
    "#creating a series with a custom index\n",
    "myser = pd.Series(data=mydata,index=myindex)\n",
    "print(\"series with named index: \\n\",myser)"
   ]
  },
  {
   "cell_type": "code",
   "execution_count": 12,
   "id": "3dfeecdc-6701-4d1e-82a3-cbf1c564731d",
   "metadata": {},
   "outputs": [
    {
     "name": "stdout",
     "output_type": "stream",
     "text": [
      "\n",
      "Random data from numpy array: [34 89 72 49]\n"
     ]
    }
   ],
   "source": [
    "#Creating Series with numpy array\n",
    "ran_data = np.random.randint(0,100,4)\n",
    "print(\"\\nRandom data from numpy array:\",ran_data)"
   ]
  },
  {
   "cell_type": "code",
   "execution_count": 14,
   "id": "254732a5-670f-4809-8a94-d5984dbbc8c5",
   "metadata": {},
   "outputs": [
    {
     "name": "stdout",
     "output_type": "stream",
     "text": [
      "\n",
      "series from NumPy array: \n",
      " Alice      34\n",
      "Bob        89\n",
      "Charles    72\n",
      "Dave       49\n",
      "dtype: int32\n"
     ]
    }
   ],
   "source": [
    "names = ['Alice','Bob','Charles','Dave']\n",
    "ages = pd.Series(ran_data,index=names)\n",
    "print(\"\\nseries from NumPy array: \\n\" , ages)"
   ]
  },
  {
   "cell_type": "code",
   "execution_count": 18,
   "id": "109c0d12-17f8-4b27-b528-e3294a405d4e",
   "metadata": {},
   "outputs": [
    {
     "name": "stdout",
     "output_type": "stream",
     "text": [
      "\n",
      "Series from dictionary is\n",
      " Sammy     5\n",
      "Frank    10\n",
      "Spike     7\n",
      "dtype: int64\n"
     ]
    }
   ],
   "source": [
    "#Creating a series from a dictionary\n",
    "\n",
    "ages_dict = {'Sammy':5,'Frank':10,'Spike': 7}\n",
    "print(\"\\nSeries from dictionary is\\n\", pd.Series(ages_dict))"
   ]
  },
  {
   "cell_type": "code",
   "execution_count": 28,
   "id": "db721471-d7f0-415f-a42e-593d813ddf75",
   "metadata": {},
   "outputs": [
    {
     "name": "stdout",
     "output_type": "stream",
     "text": [
      "Japan     80\n",
      "China    450\n",
      "India    200\n",
      "USA      260\n",
      "dtype: int64\n",
      "Brazil    100\n",
      "China     500\n",
      "India     210\n",
      "USA       250\n",
      "dtype: int64\n"
     ]
    }
   ],
   "source": [
    "#Creating Series from imaginary Sales Data\n",
    "Q1 = {'Japan':80,'China':450,'India':200,'USA':260}\n",
    "Q2 = {'Brazil':100,'China':500,'India':210,'USA':250}\n",
    "sales_Q1= pd.Series(Q1)\n",
    "sales_Q2 = pd.Series(Q2)\n",
    "\n",
    "print(sales_Q1)\n",
    "print(sales_Q2)"
   ]
  },
  {
   "cell_type": "code",
   "execution_count": 34,
   "id": "7eeb29e8-0ddf-4c3d-a38a-ad154c068591",
   "metadata": {},
   "outputs": [
    {
     "name": "stdout",
     "output_type": "stream",
     "text": [
      "Sales in Japan from Q1 80\n"
     ]
    }
   ],
   "source": [
    "#Accessing values by Named Index\n",
    "print(\"Sales in Japan from Q1\", sales_Q1['Japan'])\n"
   ]
  },
  {
   "cell_type": "code",
   "execution_count": 36,
   "id": "df447cd6-5fb6-4020-ad4e-fe06a0fc6cff",
   "metadata": {},
   "outputs": [
    {
     "name": "stdout",
     "output_type": "stream",
     "text": [
      "Sales in Japan from Q1 80\n"
     ]
    },
    {
     "name": "stderr",
     "output_type": "stream",
     "text": [
      "C:\\Users\\dbda.STUDENTSDC\\AppData\\Local\\Temp\\ipykernel_8128\\2511499439.py:2: FutureWarning: Series.__getitem__ treating keys as positions is deprecated. In a future version, integer keys will always be treated as labels (consistent with DataFrame behavior). To access a value by position, use `ser.iloc[pos]`\n",
      "  print(\"Sales in Japan from Q1\", sales_Q1[0])\n"
     ]
    }
   ],
   "source": [
    "#Accessing values from Integer based Location\n",
    "print(\"Sales in Japan from Q1\", sales_Q1[0])"
   ]
  },
  {
   "cell_type": "code",
   "execution_count": 40,
   "id": "899ac65a-467e-4956-8531-489ef12bfb11",
   "metadata": {},
   "outputs": [
    {
     "ename": "SyntaxError",
     "evalue": "unterminated string literal (detected at line 2) (3405288444.py, line 2)",
     "output_type": "error",
     "traceback": [
      "\u001b[1;36m  Cell \u001b[1;32mIn[40], line 2\u001b[1;36m\u001b[0m\n\u001b[1;33m    print(sales_Q1['France]) # Non-Existant keys\u001b[0m\n\u001b[1;37m                   ^\u001b[0m\n\u001b[1;31mSyntaxError\u001b[0m\u001b[1;31m:\u001b[0m unterminated string literal (detected at line 2)\n"
     ]
    }
   ],
   "source": [
    "#Errors \n",
    "print(sales_Q1['France]) # Non-Existant keys\n",
    "print(sales_Q1['USA ']) \n",
    "print(sales_Q1[ 'usa'])"
   ]
  },
  {
   "cell_type": "code",
   "execution_count": 51,
   "id": "1a3b946e-665f-4927-8eb8-44bbe46e5f89",
   "metadata": {},
   "outputs": [
    {
     "name": "stdout",
     "output_type": "stream",
     "text": [
      "Series Keys:  Index(['Japan', 'China', 'India', 'USA'], dtype='object')\n"
     ]
    }
   ],
   "source": [
    "#7 Series Operations\n",
    "print(\"Series Keys: \", sales_Q1.keys())"
   ]
  },
  {
   "cell_type": "code",
   "execution_count": 57,
   "id": "5ea83dfe-55a5-418a-98af-989e8e674713",
   "metadata": {},
   "outputs": [
    {
     "name": "stdout",
     "output_type": "stream",
     "text": [
      "Sales Q1 doubled Japan    160\n",
      "China    900\n",
      "India    400\n",
      "USA      520\n",
      "dtype: int64\n",
      "Sales Q1 doubled Japan    0.8\n",
      "China    4.5\n",
      "India    2.0\n",
      "USA      2.6\n",
      "dtype: float64\n"
     ]
    }
   ],
   "source": [
    "#8 Broadcasting operations \n",
    "print(\"Sales Q1 doubled\", sales_Q1 * 2)\n",
    "print(\"Sales Q1 doubled\", sales_Q1 / 100)"
   ]
  },
  {
   "cell_type": "code",
   "execution_count": 59,
   "id": "ba4d1c93-5625-4754-83f3-0af25b280e5c",
   "metadata": {},
   "outputs": [
    {
     "name": "stdout",
     "output_type": "stream",
     "text": [
      "\n",
      "SalesQ1 + Sales Q2(with Nan where Non matching keys)\n",
      " Brazil      NaN\n",
      "China     950.0\n",
      "India     410.0\n",
      "Japan       NaN\n",
      "USA       510.0\n",
      "dtype: float64\n"
     ]
    }
   ],
   "source": [
    "#Handling Mismatched Indices (NaN values)\n",
    "print(\"\\nSalesQ1 + Sales Q2(with Nan where Non matching keys)\\n\", sales_Q1 + sales_Q2 )"
   ]
  },
  {
   "cell_type": "code",
   "execution_count": 65,
   "id": "ad1704ea-576b-4b59-b981-350333971ad7",
   "metadata": {},
   "outputs": [
    {
     "name": "stdout",
     "output_type": "stream",
     "text": [
      "\n",
      " Sales Q1 + Sales Q2(fill naN with 0):\n",
      " Brazil    100.0\n",
      "China     950.0\n",
      "India     410.0\n",
      "Japan      80.0\n",
      "USA       510.0\n",
      "dtype: float64\n"
     ]
    }
   ],
   "source": [
    "#Handling missin data (Filling NaN with default value)\n",
    "print(\"\\n Sales Q1 + Sales Q2(fill naN with 0):\\n\", sales_Q1.add(sales_Q2, fill_value=0))"
   ]
  },
  {
   "cell_type": "markdown",
   "id": "7664936a-e840-417b-82b2-cc53b12194ed",
   "metadata": {},
   "source": [
    "# DataFrame"
   ]
  },
  {
   "cell_type": "code",
   "execution_count": 19,
   "id": "83828a99-b888-4254-9b55-92df03e938a5",
   "metadata": {},
   "outputs": [
    {
     "name": "stdout",
     "output_type": "stream",
     "text": [
      "Generated Data (mydata):\n",
      " [[95 11 81]\n",
      " [70 63 87]\n",
      " [75  9 77]\n",
      " [40  4 63]]\n"
     ]
    }
   ],
   "source": [
    "#creating a simple datafram from existing python list\n",
    "np.random.seed(101) ##set seed for reproducibility\n",
    "\n",
    "mydata = np.random.randint(0,101,(4,3))\n",
    "print(\"Generated Data (mydata):\\n\",mydata)\n"
   ]
  },
  {
   "cell_type": "code",
   "execution_count": 21,
   "id": "218c1ba5-8ab3-41fe-a848-db2f8ea80d7e",
   "metadata": {},
   "outputs": [],
   "source": [
    "myindex = ['CA','NY','AZ','TX']\n",
    "mycolumns = ['jan','feb','Mar']\n",
    "\n"
   ]
  },
  {
   "cell_type": "code",
   "execution_count": 23,
   "id": "002898c9-741f-49b6-b462-fcd126fb6d01",
   "metadata": {},
   "outputs": [
    {
     "name": "stdout",
     "output_type": "stream",
     "text": [
      "\n",
      "DatFrame without index/columns:\n",
      "     0   1   2\n",
      "0  95  11  81\n",
      "1  70  63  87\n",
      "2  75   9  77\n",
      "3  40   4  63\n"
     ]
    }
   ],
   "source": [
    "#Create data frame without index and columns\n",
    "df = pd.DataFrame(data=mydata)\n",
    "print(\"\\nDatFrame without index/columns:\\n\",df)"
   ]
  },
  {
   "cell_type": "code",
   "execution_count": 25,
   "id": "11678d65-3671-4841-ab9a-4ae2fe903060",
   "metadata": {},
   "outputs": [
    {
     "name": "stdout",
     "output_type": "stream",
     "text": [
      "\n",
      "DataFrame with custom row index:\n",
      "      0   1   2\n",
      "CA  95  11  81\n",
      "NY  70  63  87\n",
      "AZ  75   9  77\n",
      "TX  40   4  63\n"
     ]
    }
   ],
   "source": [
    "#Create DataFrame with bith custom index and column names\n",
    "df = pd.DataFrame(data=mydata,index=myindex)\n",
    "print(\"\\nDataFrame with custom row index:\\n\",df)"
   ]
  },
  {
   "cell_type": "code",
   "execution_count": 27,
   "id": "7c6f31a3-3de1-4016-ab13-5d302f0ef48e",
   "metadata": {},
   "outputs": [
    {
     "name": "stdout",
     "output_type": "stream",
     "text": [
      "\n",
      " data Frame with custom inbdex and custom columns:\n",
      "     jan  feb  Mar\n",
      "CA   95   11   81\n",
      "NY   70   63   87\n",
      "AZ   75    9   77\n",
      "TX   40    4   63\n"
     ]
    }
   ],
   "source": [
    "##Creating data frame with custom inbdex and custom columns\n",
    "df = pd.DataFrame(data=mydata,index=myindex,columns=mycolumns)\n",
    "print(\"\\n data Frame with custom inbdex and custom columns:\\n\",df)"
   ]
  },
  {
   "cell_type": "code",
   "execution_count": 29,
   "id": "d6763beb-ac35-497f-9781-0fa3a872730f",
   "metadata": {},
   "outputs": [
    {
     "name": "stdout",
     "output_type": "stream",
     "text": [
      "\n",
      " DataFrame info\n",
      "<class 'pandas.core.frame.DataFrame'>\n",
      "Index: 4 entries, CA to TX\n",
      "Data columns (total 3 columns):\n",
      " #   Column  Non-Null Count  Dtype\n",
      "---  ------  --------------  -----\n",
      " 0   jan     4 non-null      int32\n",
      " 1   feb     4 non-null      int32\n",
      " 2   Mar     4 non-null      int32\n",
      "dtypes: int32(3)\n",
      "memory usage: 80.0+ bytes\n",
      "None\n"
     ]
    }
   ],
   "source": [
    "##Displaying information about Dta Frame\n",
    "print(\"\\n DataFrame info\")\n",
    "print(df.info())"
   ]
  },
  {
   "cell_type": "code",
   "execution_count": 31,
   "id": "98fe1c26-7a5f-4265-92b1-aa8f3712fcf4",
   "metadata": {},
   "outputs": [
    {
     "name": "stdout",
     "output_type": "stream",
     "text": [
      "***************************************************************\n",
      "   Total Bill   Tip     Sex Smoker  Day    Time  Size\n",
      "0       16.99  1.01  Female     No  Sun  Dinner     2\n",
      "1       10.34  1.66    Male     No  Sun  Dinner     3\n",
      "2       21.01  3.50    Male     No  Sun  Dinner     3\n",
      "3       23.68  3.31    Male     No  Sun  Dinner     2\n",
      "4       24.59  3.61  Female    Yes  Sun  Dinner     4\n",
      "Index(['Total Bill', 'Tip', 'Sex', 'Smoker', 'Day', 'Time', 'Size'], dtype='object')\n",
      "***************************************************************\n",
      "RangeIndex(start=0, stop=5, step=1)\n",
      "***************************************************************\n",
      "   Total Bill   Tip     Sex Smoker  Day    Time  Size\n",
      "0       16.99  1.01  Female     No  Sun  Dinner     2\n",
      "1       10.34  1.66    Male     No  Sun  Dinner     3\n",
      "2       21.01  3.50    Male     No  Sun  Dinner     3\n",
      "***************************************************************\n",
      "   Total Bill   Tip     Sex Smoker  Day    Time  Size\n",
      "2       21.01  3.50    Male     No  Sun  Dinner     3\n",
      "3       23.68  3.31    Male     No  Sun  Dinner     2\n",
      "4       24.59  3.61  Female    Yes  Sun  Dinner     4\n",
      "***************************************************************\n",
      "<class 'pandas.core.frame.DataFrame'>\n",
      "RangeIndex: 5 entries, 0 to 4\n",
      "Data columns (total 7 columns):\n",
      " #   Column      Non-Null Count  Dtype  \n",
      "---  ------      --------------  -----  \n",
      " 0   Total Bill  5 non-null      float64\n",
      " 1   Tip         5 non-null      float64\n",
      " 2   Sex         5 non-null      object \n",
      " 3   Smoker      5 non-null      object \n",
      " 4   Day         5 non-null      object \n",
      " 5   Time        5 non-null      object \n",
      " 6   Size        5 non-null      int64  \n",
      "dtypes: float64(2), int64(1), object(4)\n",
      "memory usage: 412.0+ bytes\n",
      "None\n",
      "***************************************************************\n",
      "5\n",
      "***************************************************************\n",
      "       Total Bill       Tip     Size\n",
      "count    5.000000  5.000000  5.00000\n",
      "mean    19.322000  2.618000  2.80000\n",
      "std      5.824686  1.198361  0.83666\n",
      "min     10.340000  1.010000  2.00000\n",
      "25%     16.990000  1.660000  2.00000\n",
      "50%     21.010000  3.310000  3.00000\n",
      "75%     23.680000  3.500000  3.00000\n",
      "max     24.590000  3.610000  4.00000\n",
      "***************************************************************\n",
      "            count    mean       std    min    25%    50%    75%    max\n",
      "Total Bill    5.0  19.322  5.824686  10.34  16.99  21.01  23.68  24.59\n",
      "Tip           5.0   2.618  1.198361   1.01   1.66   3.31   3.50   3.61\n",
      "Size          5.0   2.800  0.836660   2.00   2.00   3.00   3.00   4.00\n",
      "***************************************************************\n"
     ]
    }
   ],
   "source": [
    "#Create dataframe from csv files\n",
    "print(\"***************************************************************\")\n",
    "df= pd.read_csv('tips.csv')\n",
    "print(df)\n",
    "print(df.columns)\n",
    "print(\"***************************************************************\")\n",
    "print(df.index)\n",
    "print(\"***************************************************************\")\n",
    "print(df.head(3))\n",
    "print(\"***************************************************************\")\n",
    "print(df.tail(3))\n",
    "print(\"***************************************************************\")\n",
    "print(df.info())\n",
    "print(\"***************************************************************\")\n",
    "print(len(df))\n",
    "print(\"***************************************************************\")\n",
    "print(df.describe())\n",
    "print(\"***************************************************************\")\n",
    "print(df.describe().transpose())\n",
    "print(\"***************************************************************\")"
   ]
  },
  {
   "cell_type": "code",
   "execution_count": 33,
   "id": "df6fa94a-6201-4f75-a77a-247d3925ff3b",
   "metadata": {},
   "outputs": [
    {
     "ename": "KeyError",
     "evalue": "'total_bill'",
     "output_type": "error",
     "traceback": [
      "\u001b[1;31m---------------------------------------------------------------------------\u001b[0m",
      "\u001b[1;31mKeyError\u001b[0m                                  Traceback (most recent call last)",
      "File \u001b[1;32m~\\AppData\\Local\\anaconda3\\Lib\\site-packages\\pandas\\core\\indexes\\base.py:3805\u001b[0m, in \u001b[0;36mIndex.get_loc\u001b[1;34m(self, key)\u001b[0m\n\u001b[0;32m   3804\u001b[0m \u001b[38;5;28;01mtry\u001b[39;00m:\n\u001b[1;32m-> 3805\u001b[0m     \u001b[38;5;28;01mreturn\u001b[39;00m \u001b[38;5;28mself\u001b[39m\u001b[38;5;241m.\u001b[39m_engine\u001b[38;5;241m.\u001b[39mget_loc(casted_key)\n\u001b[0;32m   3806\u001b[0m \u001b[38;5;28;01mexcept\u001b[39;00m \u001b[38;5;167;01mKeyError\u001b[39;00m \u001b[38;5;28;01mas\u001b[39;00m err:\n",
      "File \u001b[1;32mindex.pyx:167\u001b[0m, in \u001b[0;36mpandas._libs.index.IndexEngine.get_loc\u001b[1;34m()\u001b[0m\n",
      "File \u001b[1;32mindex.pyx:196\u001b[0m, in \u001b[0;36mpandas._libs.index.IndexEngine.get_loc\u001b[1;34m()\u001b[0m\n",
      "File \u001b[1;32mpandas\\\\_libs\\\\hashtable_class_helper.pxi:7081\u001b[0m, in \u001b[0;36mpandas._libs.hashtable.PyObjectHashTable.get_item\u001b[1;34m()\u001b[0m\n",
      "File \u001b[1;32mpandas\\\\_libs\\\\hashtable_class_helper.pxi:7089\u001b[0m, in \u001b[0;36mpandas._libs.hashtable.PyObjectHashTable.get_item\u001b[1;34m()\u001b[0m\n",
      "\u001b[1;31mKeyError\u001b[0m: 'total_bill'",
      "\nThe above exception was the direct cause of the following exception:\n",
      "\u001b[1;31mKeyError\u001b[0m                                  Traceback (most recent call last)",
      "Cell \u001b[1;32mIn[33], line 2\u001b[0m\n\u001b[0;32m      1\u001b[0m \u001b[38;5;66;03m#Selecting a single column\u001b[39;00m\n\u001b[1;32m----> 2\u001b[0m \u001b[38;5;28mprint\u001b[39m(df[\u001b[38;5;124m'\u001b[39m\u001b[38;5;124mtotal_bill\u001b[39m\u001b[38;5;124m'\u001b[39m])\n\u001b[0;32m      3\u001b[0m \u001b[38;5;28mprint\u001b[39m(\u001b[38;5;28mtype\u001b[39m())\n",
      "File \u001b[1;32m~\\AppData\\Local\\anaconda3\\Lib\\site-packages\\pandas\\core\\frame.py:4102\u001b[0m, in \u001b[0;36mDataFrame.__getitem__\u001b[1;34m(self, key)\u001b[0m\n\u001b[0;32m   4100\u001b[0m \u001b[38;5;28;01mif\u001b[39;00m \u001b[38;5;28mself\u001b[39m\u001b[38;5;241m.\u001b[39mcolumns\u001b[38;5;241m.\u001b[39mnlevels \u001b[38;5;241m>\u001b[39m \u001b[38;5;241m1\u001b[39m:\n\u001b[0;32m   4101\u001b[0m     \u001b[38;5;28;01mreturn\u001b[39;00m \u001b[38;5;28mself\u001b[39m\u001b[38;5;241m.\u001b[39m_getitem_multilevel(key)\n\u001b[1;32m-> 4102\u001b[0m indexer \u001b[38;5;241m=\u001b[39m \u001b[38;5;28mself\u001b[39m\u001b[38;5;241m.\u001b[39mcolumns\u001b[38;5;241m.\u001b[39mget_loc(key)\n\u001b[0;32m   4103\u001b[0m \u001b[38;5;28;01mif\u001b[39;00m is_integer(indexer):\n\u001b[0;32m   4104\u001b[0m     indexer \u001b[38;5;241m=\u001b[39m [indexer]\n",
      "File \u001b[1;32m~\\AppData\\Local\\anaconda3\\Lib\\site-packages\\pandas\\core\\indexes\\base.py:3812\u001b[0m, in \u001b[0;36mIndex.get_loc\u001b[1;34m(self, key)\u001b[0m\n\u001b[0;32m   3807\u001b[0m     \u001b[38;5;28;01mif\u001b[39;00m \u001b[38;5;28misinstance\u001b[39m(casted_key, \u001b[38;5;28mslice\u001b[39m) \u001b[38;5;129;01mor\u001b[39;00m (\n\u001b[0;32m   3808\u001b[0m         \u001b[38;5;28misinstance\u001b[39m(casted_key, abc\u001b[38;5;241m.\u001b[39mIterable)\n\u001b[0;32m   3809\u001b[0m         \u001b[38;5;129;01mand\u001b[39;00m \u001b[38;5;28many\u001b[39m(\u001b[38;5;28misinstance\u001b[39m(x, \u001b[38;5;28mslice\u001b[39m) \u001b[38;5;28;01mfor\u001b[39;00m x \u001b[38;5;129;01min\u001b[39;00m casted_key)\n\u001b[0;32m   3810\u001b[0m     ):\n\u001b[0;32m   3811\u001b[0m         \u001b[38;5;28;01mraise\u001b[39;00m InvalidIndexError(key)\n\u001b[1;32m-> 3812\u001b[0m     \u001b[38;5;28;01mraise\u001b[39;00m \u001b[38;5;167;01mKeyError\u001b[39;00m(key) \u001b[38;5;28;01mfrom\u001b[39;00m \u001b[38;5;21;01merr\u001b[39;00m\n\u001b[0;32m   3813\u001b[0m \u001b[38;5;28;01mexcept\u001b[39;00m \u001b[38;5;167;01mTypeError\u001b[39;00m:\n\u001b[0;32m   3814\u001b[0m     \u001b[38;5;66;03m# If we have a listlike key, _check_indexing_error will raise\u001b[39;00m\n\u001b[0;32m   3815\u001b[0m     \u001b[38;5;66;03m#  InvalidIndexError. Otherwise we fall through and re-raise\u001b[39;00m\n\u001b[0;32m   3816\u001b[0m     \u001b[38;5;66;03m#  the TypeError.\u001b[39;00m\n\u001b[0;32m   3817\u001b[0m     \u001b[38;5;28mself\u001b[39m\u001b[38;5;241m.\u001b[39m_check_indexing_error(key)\n",
      "\u001b[1;31mKeyError\u001b[0m: 'total_bill'"
     ]
    }
   ],
   "source": [
    "#Selecting a single column\n",
    "print(df['total_bill'])\n",
    "print(type())"
   ]
  },
  {
   "cell_type": "code",
   "execution_count": null,
   "id": "eee38f52-993b-4033-9428-253cfea236d6",
   "metadata": {},
   "outputs": [],
   "source": [
    "#Selecting multiple columns\n",
    "print(df[['Total Bill','Tip']])"
   ]
  },
  {
   "cell_type": "code",
   "execution_count": 169,
   "id": "e1c44903-eb95-49ce-bf84-4ee79deddd1a",
   "metadata": {},
   "outputs": [
    {
     "name": "stdout",
     "output_type": "stream",
     "text": [
      "   Total Bill   Tip     Sex Smoker  Day    Time  Size Time_mapped    tip_per  \\\n",
      "0       16.99  1.01  Female     No  Sun  Dinner     2           D   5.944673   \n",
      "1       10.34  1.66    Male     No  Sun  Dinner     3           D  16.054159   \n",
      "2       21.01  3.50    Male     No  Sun  Dinner     3           D  16.658734   \n",
      "3       23.68  3.31    Male     No  Sun  Dinner     2           D  13.978041   \n",
      "4       24.59  3.61  Female    Yes  Sun  Dinner     4           D  14.680765   \n",
      "\n",
      "   price_per_person  \n",
      "0          8.495000  \n",
      "1          3.446667  \n",
      "2          7.003333  \n",
      "3         11.840000  \n",
      "4          6.147500  \n"
     ]
    }
   ],
   "source": [
    "#Create a new column based on existing one\n",
    "\n",
    "df['tip_per'] = 100*df['Tip']/df['Total Bill']\n",
    "df['price_per_person']= df['Total Bill']/df['Size']\n",
    "print(df.head())"
   ]
  },
  {
   "cell_type": "code",
   "execution_count": 171,
   "id": "38fff7ca-48d3-4940-8f75-123214e7ed3d",
   "metadata": {},
   "outputs": [
    {
     "name": "stdout",
     "output_type": "stream",
     "text": [
      "   Total Bill   Tip     Sex Smoker  Day    Time  Size Time_mapped    tip_per  \\\n",
      "0       16.99  1.01  Female     No  Sun  Dinner     2           D   5.944673   \n",
      "1       10.34  1.66    Male     No  Sun  Dinner     3           D  16.054159   \n",
      "2       21.01  3.50    Male     No  Sun  Dinner     3           D  16.658734   \n",
      "3       23.68  3.31    Male     No  Sun  Dinner     2           D  13.978041   \n",
      "4       24.59  3.61  Female    Yes  Sun  Dinner     4           D  14.680765   \n",
      "\n",
      "   price_per_person  \n",
      "0              8.49  \n",
      "1              3.45  \n",
      "2              7.00  \n",
      "3             11.84  \n",
      "4              6.15  \n"
     ]
    }
   ],
   "source": [
    "##Adjust the price % column by rounding to 2 decimal\n",
    "df['price_per_person'] = np.round(df['price_per_person'],2)\n",
    "print(df.head())"
   ]
  },
  {
   "cell_type": "code",
   "execution_count": null,
   "id": "cb53b46b-935a-45db-a697-d29243dc8f17",
   "metadata": {},
   "outputs": [],
   "source": [
    "###remove the 'tip % column '\n",
    "df = df.drop('tip_per',axis =1)\n",
    "print(df.head())"
   ]
  },
  {
   "cell_type": "code",
   "execution_count": null,
   "id": "623b6f35-538d-4610-9888-d9f8aee0e40a",
   "metadata": {},
   "outputs": [],
   "source": [
    "###Show all columns in the display\n",
    "\n",
    "###now after seting if we prnt df it will show whole dataframe \n",
    "\n",
    "pd.set_option('display.max_columns',None)\n",
    "pd.set_option('display.max_rows',None)\n",
    "print(df)\n",
    "\n",
    "print(df.head(2))"
   ]
  },
  {
   "cell_type": "code",
   "execution_count": 173,
   "id": "d1e73d5c-8880-4def-a6e5-3d72b66be2a9",
   "metadata": {},
   "outputs": [
    {
     "name": "stdout",
     "output_type": "stream",
     "text": [
      "   Total Bill   Tip     Sex Smoker  Day    Time  Size Time_mapped    tip_per  \\\n",
      "0       16.99  1.01  Female     No  Sun  Dinner     2           D   5.944673   \n",
      "1       10.34  1.66    Male     No  Sun  Dinner     3           D  16.054159   \n",
      "2       21.01  3.50    Male     No  Sun  Dinner     3           D  16.658734   \n",
      "3       23.68  3.31    Male     No  Sun  Dinner     2           D  13.978041   \n",
      "4       24.59  3.61  Female    Yes  Sun  Dinner     4           D  14.680765   \n",
      "\n",
      "   price_per_person  \n",
      "0              8.49  \n",
      "1              3.45  \n",
      "2              7.00  \n",
      "3             11.84  \n",
      "4              6.15  \n"
     ]
    }
   ],
   "source": [
    "###\n",
    "pd.reset_option('display.max_columns',None)\n",
    "pd.reset_option('display.max_rows',None)\n",
    "print(df.head())"
   ]
  },
  {
   "cell_type": "code",
   "execution_count": 175,
   "id": "24f74fef-7dc5-4c69-bce1-702f4ca89ae9",
   "metadata": {},
   "outputs": [
    {
     "name": "stdout",
     "output_type": "stream",
     "text": [
      "Total Bill             16.99\n",
      "Tip                     1.01\n",
      "Sex                   Female\n",
      "Smoker                    No\n",
      "Day                      Sun\n",
      "Time                  Dinner\n",
      "Size                       2\n",
      "Time_mapped                D\n",
      "tip_per             5.944673\n",
      "price_per_person        8.49\n",
      "Name: 0, dtype: object\n"
     ]
    }
   ],
   "source": [
    "##Accessing rows by index\n",
    "print(df.iloc[0].transpose())"
   ]
  },
  {
   "cell_type": "code",
   "execution_count": 42,
   "id": "73e06f87-35d3-46ed-b5d9-a4f45483796e",
   "metadata": {},
   "outputs": [
    {
     "name": "stdout",
     "output_type": "stream",
     "text": [
      "0    True\n",
      "1    True\n",
      "2    True\n",
      "3    True\n",
      "4    True\n",
      "Name: Total Bill, dtype: bool\n",
      "   Total Bill   Tip     Sex Smoker  Day    Time  Size\n",
      "0       16.99  1.01  Female     No  Sun  Dinner     2\n",
      "1       10.34  1.66    Male     No  Sun  Dinner     3\n",
      "2       21.01  3.50    Male     No  Sun  Dinner     3\n",
      "3       23.68  3.31    Male     No  Sun  Dinner     2\n",
      "4       24.59  3.61  Female    Yes  Sun  Dinner     4\n"
     ]
    }
   ],
   "source": [
    "#Pandas COnditional Filtering\n",
    "#Conditions on single column\n",
    "\n",
    "print(df['Total Bill']< 30) # Boolean Series\n",
    "#print(df.Toal Bill < 30 ) This is wrong because we have space in out column name so use \n",
    "#print(df.Total_Bill) this will work\n",
    "print(df[df['Total Bill']< 30]) \n"
   ]
  },
  {
   "cell_type": "code",
   "execution_count": 45,
   "id": "ea575ee5-f6e9-4951-bab1-859bf21f25bf",
   "metadata": {},
   "outputs": [
    {
     "name": "stdout",
     "output_type": "stream",
     "text": [
      "   Total Bill   Tip     Sex Smoker  Day    Time  Size\n",
      "0       16.99  1.01  Female     No  Sun  Dinner     2\n",
      "4       24.59  3.61  Female    Yes  Sun  Dinner     4\n"
     ]
    }
   ],
   "source": [
    "#Filter rows based on gender \n",
    "print(df[df['Sex']=='Female'])"
   ]
  },
  {
   "cell_type": "code",
   "execution_count": 64,
   "id": "83a79b36-78c0-4786-9b1d-06c46397f166",
   "metadata": {},
   "outputs": [
    {
     "name": "stdout",
     "output_type": "stream",
     "text": [
      "   Total Bill   Tip   Sex Smoker  Day    Time  Size\n",
      "2       21.01  3.50  Male     No  Sun  Dinner     3\n",
      "3       23.68  3.31  Male     No  Sun  Dinner     2\n",
      "********\n",
      "   Total Bill   Tip     Sex Smoker  Day    Time  Size\n",
      "4       24.59  3.61  Female    Yes  Sun  Dinner     4\n",
      "********\n",
      "   Total Bill   Tip     Sex Smoker  Day    Time  Size\n",
      "1       10.34  1.66    Male     No  Sun  Dinner     3\n",
      "2       21.01  3.50    Male     No  Sun  Dinner     3\n",
      "3       23.68  3.31    Male     No  Sun  Dinner     2\n",
      "4       24.59  3.61  Female    Yes  Sun  Dinner     4\n"
     ]
    }
   ],
   "source": [
    "#Multiple conditions (AND,OR,NOT)\n",
    "print(df[(df['Total Bill'] > 20)& (df['Sex']=='Male')] )\n",
    "print(\"********\")\n",
    "print(df[(df['Total Bill'] > 20)& ~(df['Sex']=='Male')] )\n",
    "print(\"********\")\n",
    "print(df[(df['Total Bill'] > 20) | (df['Sex']=='Male')] )\n"
   ]
  },
  {
   "cell_type": "code",
   "execution_count": 68,
   "id": "0917c616-7ba1-4701-9106-786be0c2ad10",
   "metadata": {},
   "outputs": [
    {
     "name": "stdout",
     "output_type": "stream",
     "text": [
      "   Total Bill   Tip     Sex Smoker  Day    Time  Size\n",
      "0       16.99  1.01  Female     No  Sun  Dinner     2\n",
      "1       10.34  1.66    Male     No  Sun  Dinner     3\n",
      "2       21.01  3.50    Male     No  Sun  Dinner     3\n",
      "3       23.68  3.31    Male     No  Sun  Dinner     2\n",
      "4       24.59  3.61  Female    Yes  Sun  Dinner     4\n",
      "   Total Bill   Tip     Sex Smoker  Day    Time  Size\n",
      "0       16.99  1.01  Female     No  Sun  Dinner     2\n",
      "1       10.34  1.66    Male     No  Sun  Dinner     3\n",
      "2       21.01  3.50    Male     No  Sun  Dinner     3\n",
      "3       23.68  3.31    Male     No  Sun  Dinner     2\n",
      "4       24.59  3.61  Female    Yes  Sun  Dinner     4\n"
     ]
    }
   ],
   "source": [
    "#Using 'in' for checking if a column value is on a list of options \n",
    "options = ['Sat', 'Sun']\n",
    "print(df[df['Day'].isin(options)])\n",
    "print(df[(df['Day'] =='Sun') | (df['Day'] =='Sat')])"
   ]
  },
  {
   "cell_type": "code",
   "execution_count": 72,
   "id": "aa846939-7f58-48cf-8330-7ca3e454c904",
   "metadata": {},
   "outputs": [
    {
     "name": "stdout",
     "output_type": "stream",
     "text": [
      "   Total Bill   Tip     Sex Smoker  Day    Time  Size\n",
      "0       16.99  1.01  Female     No  Sun  Dinner     2\n",
      "1       10.34  1.66    Male     No  Sun  Dinner     3\n",
      "3       23.68  3.31    Male     No  Sun  Dinner     2\n",
      "2       21.01  3.50    Male     No  Sun  Dinner     3\n",
      "4       24.59  3.61  Female    Yes  Sun  Dinner     4\n",
      "   Total Bill   Tip     Sex Smoker  Day    Time  Size\n",
      "4       24.59  3.61  Female    Yes  Sun  Dinner     4\n",
      "2       21.01  3.50    Male     No  Sun  Dinner     3\n",
      "3       23.68  3.31    Male     No  Sun  Dinner     2\n",
      "1       10.34  1.66    Male     No  Sun  Dinner     3\n",
      "0       16.99  1.01  Female     No  Sun  Dinner     2\n"
     ]
    }
   ],
   "source": [
    "#Pandas Useful methods\n",
    "#Sort values by tip\n",
    "print(df.sort_values('Tip').head())\n",
    "print(df.sort_values('Tip', ascending=False).head())"
   ]
  },
  {
   "cell_type": "code",
   "execution_count": 74,
   "id": "9cd46ac6-d261-43d2-8932-e5a426a91fb1",
   "metadata": {},
   "outputs": [
    {
     "name": "stdout",
     "output_type": "stream",
     "text": [
      "            Total Bill       Tip\n",
      "Total Bill    1.000000  0.791002\n",
      "Tip           0.791002  1.000000\n"
     ]
    }
   ],
   "source": [
    "#Calculate correlation between total bill and tip\n",
    "print(df[['Total Bill' , 'Tip']].corr())"
   ]
  },
  {
   "cell_type": "code",
   "execution_count": 78,
   "id": "a06f66ad-664e-4a8f-abb6-6898ac79c623",
   "metadata": {},
   "outputs": [
    {
     "name": "stdout",
     "output_type": "stream",
     "text": [
      "Max of Total Bill: 24.59\n",
      "Min of total Bill: 10.34\n",
      "Index of max total bill: 4\n",
      "Index of min total bill: 1\n"
     ]
    }
   ],
   "source": [
    "###finding index of min and max of total bill\n",
    "print(\"Max of Total Bill:\",df['Total Bill'].max())\n",
    "print(\"Min of total Bill:\",df['Total Bill'].min())\n",
    "\n",
    "print(\"Index of max total bill:\",df['Total Bill'].idxmax())\n",
    "print(\"Index of min total bill:\",df['Total Bill'].idxmin())"
   ]
  },
  {
   "cell_type": "code",
   "execution_count": 92,
   "id": "2b8c7e0c-aaf0-44ae-9771-1af878f86403",
   "metadata": {},
   "outputs": [
    {
     "name": "stdout",
     "output_type": "stream",
     "text": [
      "Smoker\n",
      "No     4\n",
      "Yes    1\n",
      "Name: count, dtype: int64\n"
     ]
    }
   ],
   "source": [
    "##get unique values in the categorical column\n",
    "print(df['Smoker'].value_counts())"
   ]
  },
  {
   "cell_type": "code",
   "execution_count": 84,
   "id": "d86bebfb-dc52-4583-b585-89dae01e5b20",
   "metadata": {},
   "outputs": [
    {
     "name": "stdout",
     "output_type": "stream",
     "text": [
      "Sex\n",
      "Male      3\n",
      "Female    2\n",
      "Name: count, dtype: int64\n"
     ]
    }
   ],
   "source": [
    "print(df['Sex'].value_counts())"
   ]
  },
  {
   "cell_type": "code",
   "execution_count": 94,
   "id": "24cb0c14-46b8-441f-9545-b76bac4419b7",
   "metadata": {},
   "outputs": [
    {
     "name": "stdout",
     "output_type": "stream",
     "text": [
      "[2 3 4]\n",
      "3\n"
     ]
    }
   ],
   "source": [
    "###get unique values and count of unique values\n",
    "print(df['Size'].unique())\n",
    "print(df['Size'].nunique())"
   ]
  },
  {
   "cell_type": "code",
   "execution_count": 177,
   "id": "e1ddc22d-be74-4c07-8a94-f778feea81b2",
   "metadata": {},
   "outputs": [
    {
     "name": "stdout",
     "output_type": "stream",
     "text": [
      "     Time Time_mapped\n",
      "0  Dinner           D\n",
      "1  Dinner           D\n",
      "2  Dinner           D\n",
      "3  Dinner           D\n",
      "4  Dinner           D\n"
     ]
    },
    {
     "data": {
      "text/html": [
       "<div>\n",
       "<style scoped>\n",
       "    .dataframe tbody tr th:only-of-type {\n",
       "        vertical-align: middle;\n",
       "    }\n",
       "\n",
       "    .dataframe tbody tr th {\n",
       "        vertical-align: top;\n",
       "    }\n",
       "\n",
       "    .dataframe thead th {\n",
       "        text-align: right;\n",
       "    }\n",
       "</style>\n",
       "<table border=\"1\" class=\"dataframe\">\n",
       "  <thead>\n",
       "    <tr style=\"text-align: right;\">\n",
       "      <th></th>\n",
       "      <th>Total Bill</th>\n",
       "      <th>Tip</th>\n",
       "      <th>Sex</th>\n",
       "      <th>Smoker</th>\n",
       "      <th>Day</th>\n",
       "      <th>Time</th>\n",
       "      <th>Size</th>\n",
       "      <th>Time_mapped</th>\n",
       "      <th>tip_per</th>\n",
       "      <th>price_per_person</th>\n",
       "    </tr>\n",
       "  </thead>\n",
       "  <tbody>\n",
       "    <tr>\n",
       "      <th>0</th>\n",
       "      <td>16.99</td>\n",
       "      <td>1.01</td>\n",
       "      <td>Female</td>\n",
       "      <td>No</td>\n",
       "      <td>Sun</td>\n",
       "      <td>Dinner</td>\n",
       "      <td>2</td>\n",
       "      <td>D</td>\n",
       "      <td>5.944673</td>\n",
       "      <td>8.49</td>\n",
       "    </tr>\n",
       "    <tr>\n",
       "      <th>1</th>\n",
       "      <td>10.34</td>\n",
       "      <td>1.66</td>\n",
       "      <td>Male</td>\n",
       "      <td>No</td>\n",
       "      <td>Sun</td>\n",
       "      <td>Dinner</td>\n",
       "      <td>3</td>\n",
       "      <td>D</td>\n",
       "      <td>16.054159</td>\n",
       "      <td>3.45</td>\n",
       "    </tr>\n",
       "    <tr>\n",
       "      <th>2</th>\n",
       "      <td>21.01</td>\n",
       "      <td>3.50</td>\n",
       "      <td>Male</td>\n",
       "      <td>No</td>\n",
       "      <td>Sun</td>\n",
       "      <td>Dinner</td>\n",
       "      <td>3</td>\n",
       "      <td>D</td>\n",
       "      <td>16.658734</td>\n",
       "      <td>7.00</td>\n",
       "    </tr>\n",
       "    <tr>\n",
       "      <th>3</th>\n",
       "      <td>23.68</td>\n",
       "      <td>3.31</td>\n",
       "      <td>Male</td>\n",
       "      <td>No</td>\n",
       "      <td>Sun</td>\n",
       "      <td>Dinner</td>\n",
       "      <td>2</td>\n",
       "      <td>D</td>\n",
       "      <td>13.978041</td>\n",
       "      <td>11.84</td>\n",
       "    </tr>\n",
       "    <tr>\n",
       "      <th>4</th>\n",
       "      <td>24.59</td>\n",
       "      <td>3.61</td>\n",
       "      <td>Female</td>\n",
       "      <td>Yes</td>\n",
       "      <td>Sun</td>\n",
       "      <td>Dinner</td>\n",
       "      <td>4</td>\n",
       "      <td>D</td>\n",
       "      <td>14.680765</td>\n",
       "      <td>6.15</td>\n",
       "    </tr>\n",
       "  </tbody>\n",
       "</table>\n",
       "</div>"
      ],
      "text/plain": [
       "   Total Bill   Tip     Sex Smoker  Day    Time  Size Time_mapped    tip_per  \\\n",
       "0       16.99  1.01  Female     No  Sun  Dinner     2           D   5.944673   \n",
       "1       10.34  1.66    Male     No  Sun  Dinner     3           D  16.054159   \n",
       "2       21.01  3.50    Male     No  Sun  Dinner     3           D  16.658734   \n",
       "3       23.68  3.31    Male     No  Sun  Dinner     2           D  13.978041   \n",
       "4       24.59  3.61  Female    Yes  Sun  Dinner     4           D  14.680765   \n",
       "\n",
       "   price_per_person  \n",
       "0              8.49  \n",
       "1              3.45  \n",
       "2              7.00  \n",
       "3             11.84  \n",
       "4              6.15  "
      ]
     },
     "execution_count": 177,
     "metadata": {},
     "output_type": "execute_result"
    }
   ],
   "source": [
    "##Map 'Dinner' to D and 'Lunch' to 'L'\n",
    "df['Time_mapped'] = df['Time'].map({'Dinner' : 'D' , 'Lunch':'L'})\n",
    "print(df[['Time','Time_mapped']].head())\n",
    "df"
   ]
  },
  {
   "cell_type": "code",
   "execution_count": 104,
   "id": "88084e98-7537-4b27-a032-a361ce562daa",
   "metadata": {},
   "outputs": [
    {
     "name": "stdout",
     "output_type": "stream",
     "text": [
      "duplicate rows are: 0\n",
      "   Total Bill   Tip     Sex Smoker  Day    Time  Size Time_mapped\n",
      "0       16.99  1.01  Female     No  Sun  Dinner     2           D\n",
      "1       10.34  1.66    Male     No  Sun  Dinner     3           D\n",
      "2       21.01  3.50    Male     No  Sun  Dinner     3           D\n",
      "3       23.68  3.31    Male     No  Sun  Dinner     2           D\n",
      "4       24.59  3.61  Female    Yes  Sun  Dinner     4           D\n"
     ]
    }
   ],
   "source": [
    "###check the duplicates and drop them\n",
    "\n",
    "print(\"duplicate rows are:\",df.duplicated().sum())  ##count of duplicate rows\n",
    "df_no_duplicates=df.drop_duplicates()\n",
    "print(df_no_duplicates.head())"
   ]
  },
  {
   "cell_type": "code",
   "execution_count": 106,
   "id": "11702d0f-8bda-4596-acb1-5875d6b7d5d6",
   "metadata": {},
   "outputs": [
    {
     "name": "stdout",
     "output_type": "stream",
     "text": [
      "   Total Bill   Tip     Sex Smoker  Day    Time  Size Time_mapped\n",
      "0       16.99  1.01  Female     No  Sun  Dinner     2           D\n",
      "1       10.34  1.66    Male     No  Sun  Dinner     3           D\n"
     ]
    }
   ],
   "source": [
    "###Use between() to filter values between a range\n",
    "filtered_df = df[df['Total Bill'].between(10,20,inclusive='both')]\n",
    "print(filtered_df)"
   ]
  },
  {
   "cell_type": "code",
   "execution_count": 112,
   "id": "6e24dcee-4fb5-48bb-81c2-fb25591c06a6",
   "metadata": {},
   "outputs": [
    {
     "name": "stdout",
     "output_type": "stream",
     "text": [
      "   Total Bill   Tip     Sex Smoker  Day    Time  Size Time_mapped\n",
      "4       24.59  3.61  Female    Yes  Sun  Dinner     4           D\n",
      "0       16.99  1.01  Female     No  Sun  Dinner     2           D\n",
      "   Total Bill   Tip   Sex Smoker  Day    Time  Size Time_mapped\n",
      "3       23.68  3.31  Male     No  Sun  Dinner     2           D\n"
     ]
    }
   ],
   "source": [
    "### Sample Random Data\n",
    "print(df.sample(2))\n",
    "print(df.sample(frac=0.2))  ##Randomly sample 10% of rows"
   ]
  },
  {
   "cell_type": "code",
   "execution_count": 116,
   "id": "6dfcf5cb-40e4-4a37-ac1d-d75dd1332067",
   "metadata": {},
   "outputs": [
    {
     "name": "stdout",
     "output_type": "stream",
     "text": [
      "   Total Bill   Tip     Sex Smoker  Day    Time  Size Time_mapped\n",
      "4       24.59  3.61  Female    Yes  Sun  Dinner     4           D\n",
      "2       21.01  3.50    Male     No  Sun  Dinner     3           D\n",
      "   Total Bill   Tip     Sex Smoker  Day    Time  Size Time_mapped\n",
      "0       16.99  1.01  Female     No  Sun  Dinner     2           D\n",
      "1       10.34  1.66    Male     No  Sun  Dinner     3           D\n"
     ]
    }
   ],
   "source": [
    "####Get n largest and smallest values by Tip\n",
    "print(df.nlargest(2,'Tip'))\n",
    "print(df.nsmallest(2,'Tip'))"
   ]
  },
  {
   "cell_type": "code",
   "execution_count": 122,
   "id": "ae761a0a-5f9e-4d3d-8cb1-63329ecbbf6b",
   "metadata": {},
   "outputs": [
    {
     "data": {
      "text/plain": [
       "'\\n# Groupby functionality\\n1. **Splitting** : the data is divided into groups based on criteria provided\\n2. **Applying** : A Function (or multiple function) is applied to each group independently\\n3. **Combining** : The Results of the functions applications are combined into a new DtatFrame\\n\\n'"
      ]
     },
     "execution_count": 122,
     "metadata": {},
     "output_type": "execute_result"
    }
   ],
   "source": [
    "###Grouping\n",
    "'''\n",
    "# Groupby functionality\n",
    "1. **Splitting** : the data is divided into groups based on criteria provided\n",
    "2. **Applying** : A Function (or multiple function) is applied to each group independently\n",
    "3. **Combining** : The Results of the functions applications are combined into a new DtatFrame\n",
    "\n",
    "'''"
   ]
  },
  {
   "cell_type": "code",
   "execution_count": 139,
   "id": "f560d908-66b4-4102-90b3-6760fc9cb83e",
   "metadata": {},
   "outputs": [
    {
     "name": "stdout",
     "output_type": "stream",
     "text": [
      "<pandas.core.groupby.generic.DataFrameGroupBy object at 0x00000156D3096F60>\n",
      "   Total Bill   Tip     Sex Smoker  Day    Time  Size Time_mapped\n",
      "0       16.99  1.01  Female     No  Sun  Dinner     2           D\n",
      "1       10.34  1.66    Male     No  Sun  Dinner     3           D\n",
      "2       21.01  3.50    Male     No  Sun  Dinner     3           D\n",
      "3       23.68  3.31    Male     No  Sun  Dinner     2           D\n",
      "4       24.59  3.61  Female    Yes  Sun  Dinner     4           D\n"
     ]
    }
   ],
   "source": [
    "#1 Spliiting group by Gender\n",
    "df_grouped = df.groupby('Sex')\n",
    "print(df_grouped)\n",
    "print(df_grouped.head())"
   ]
  },
  {
   "cell_type": "code",
   "execution_count": 159,
   "id": "525e05df-bc8d-4e4b-b6e6-2b2bd553c03f",
   "metadata": {},
   "outputs": [
    {
     "name": "stdout",
     "output_type": "stream",
     "text": [
      "Sex\n",
      "Female    4.62\n",
      "Male      8.47\n",
      "Name: Tip, dtype: float64\n",
      "Sex\n",
      "Female    2.310000\n",
      "Male      2.823333\n",
      "Name: Tip, dtype: float64\n",
      "Sex\n",
      "Female    2\n",
      "Male      3\n",
      "Name: Tip, dtype: int64\n"
     ]
    }
   ],
   "source": [
    "# 2 . Applying - Calculate various statistics for 'tip' by 'gender'\n",
    "sum_Tip_Sex = df_grouped['Tip'].sum() #Mean tip by Gender\n",
    "print(sum_Tip_Sex)\n",
    "\n",
    "mean_Tip_Sex = df_grouped['Tip'].mean() \n",
    "print(mean_Tip_Sex)\n",
    "\n",
    "count_Tip_Sex = df_grouped['Tip'].count()\n",
    "print(count_Tip_Sex)\n",
    "\n"
   ]
  },
  {
   "cell_type": "code",
   "execution_count": 161,
   "id": "3d6cb8e9-1463-4ad8-8f06-515c7030813d",
   "metadata": {},
   "outputs": [
    {
     "name": "stdout",
     "output_type": "stream",
     "text": [
      "Sex     Day\n",
      "Female  Sun    2.310000\n",
      "Male    Sun    2.823333\n",
      "Name: Tip, dtype: float64\n"
     ]
    }
   ],
   "source": [
    "# 3 . Combining - Group by both 'Gender' and 'Day'\n",
    "df_grouped_day = df.groupby(['Sex', 'Day'])\n",
    "mean_Tip_by_Gender_Day = df_grouped_day['Tip'].mean()    #Mean tip by gender and day\n",
    "print(mean_Tip_by_Gender_Day)"
   ]
  },
  {
   "cell_type": "code",
   "execution_count": 163,
   "id": "af3cdf8c-a178-4e46-b29c-c34806d18503",
   "metadata": {},
   "outputs": [
    {
     "name": "stdout",
     "output_type": "stream",
     "text": [
      "                 Tip            \n",
      "                mean   sum count\n",
      "Sex    Day                      \n",
      "Female Sun  2.310000  4.62     2\n",
      "Male   Sun  2.823333  8.47     3\n"
     ]
    }
   ],
   "source": [
    "# 4 Aggregation with multiple functions\n",
    "df_grouped_agg = df.groupby(['Sex', 'Day']).agg({'Tip': ['mean', 'sum','count']})\n",
    "print(df_grouped_agg)"
   ]
  },
  {
   "cell_type": "code",
   "execution_count": 167,
   "id": "21e4832d-e03c-40dd-a56a-0e0589f2416a",
   "metadata": {},
   "outputs": [
    {
     "name": "stdout",
     "output_type": "stream",
     "text": [
      "      Sex  Day       Tip            \n",
      "                    mean   sum count\n",
      "0  Female  Sun  2.310000  4.62     2\n",
      "1    Male  Sun  2.823333  8.47     3\n"
     ]
    }
   ],
   "source": [
    "#Resetting INdex \n",
    "df_grouped_agg = df.groupby(['Sex', 'Day']).agg({'Tip': ['mean', 'sum','count']}).reset_index()\n",
    "print(df_grouped_agg)"
   ]
  },
  {
   "cell_type": "code",
   "execution_count": null,
   "id": "49432060-b282-4299-8cdf-9142d7965be0",
   "metadata": {},
   "outputs": [],
   "source": []
  },
  {
   "cell_type": "code",
   "execution_count": null,
   "id": "b6648a2f-c538-414d-b1bc-7b76dfb8b8b8",
   "metadata": {},
   "outputs": [],
   "source": []
  },
  {
   "cell_type": "code",
   "execution_count": null,
   "id": "1ab30e2b-6a4b-4e28-b9e8-7ce56fd53108",
   "metadata": {},
   "outputs": [],
   "source": []
  },
  {
   "cell_type": "code",
   "execution_count": null,
   "id": "4b709c1b-beb6-4893-842c-2627271c3681",
   "metadata": {},
   "outputs": [],
   "source": []
  }
 ],
 "metadata": {
  "kernelspec": {
   "display_name": "Python 3 (ipykernel)",
   "language": "python",
   "name": "python3"
  },
  "language_info": {
   "codemirror_mode": {
    "name": "ipython",
    "version": 3
   },
   "file_extension": ".py",
   "mimetype": "text/x-python",
   "name": "python",
   "nbconvert_exporter": "python",
   "pygments_lexer": "ipython3",
   "version": "3.12.4"
  }
 },
 "nbformat": 4,
 "nbformat_minor": 5
}
