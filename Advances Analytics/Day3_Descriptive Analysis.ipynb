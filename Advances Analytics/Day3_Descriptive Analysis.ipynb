{
 "cells": [
  {
   "cell_type": "code",
   "execution_count": 12,
   "id": "a1ab10f2-5196-4fd1-8e4f-d474b73a8d58",
   "metadata": {},
   "outputs": [],
   "source": [
    "import matplotlib.pyplot as plt\n",
    "import seaborn as sns\n",
    "\n",
    "commuter_times= [16,8,35,17,13,15,15,15,16,25,20,20,20,12,10]"
   ]
  },
  {
   "cell_type": "code",
   "execution_count": 13,
   "id": "9cbb23bd-a6ef-4fb7-8f25-b61a86b6e24c",
   "metadata": {},
   "outputs": [
    {
     "data": {
      "image/png": "[encoded data removed]",
      "text/plain": [
       "<Figure size 1000x1600 with 1 Axes>"
      ]
     },
     "metadata": {},
     "output_type": "display_data"
    }
   ],
   "source": [
    "plt.figure(figsize=(10,16))\n",
    "sns.boxplot(data=commuter_times, orient='h')\n",
    "plt.title('Box plot of comuter lines')\n",
    "plt.xlabel('Minutes')\n",
    "plt.show()"
   ]
  },
  {
   "cell_type": "code",
   "execution_count": 16,
   "id": "a15055b4-7118-461c-8786-84de4bd7cc41",
   "metadata": {},
   "outputs": [],
   "source": [
    "#Exercise : DO an outlier ana;ysis for chol\n",
    "#(cholestrol levels ) column of heart.csv \n",
    "#Calculate Q1,Q2,A3 and IQR"
   ]
  },
  {
   "cell_type": "code",
   "execution_count": 101,
   "id": "b0dade92-2e18-469d-af56-879d42f2acb4",
   "metadata": {},
   "outputs": [],
   "source": [
    "import pandas as pd\n",
    "import numpy as np\n",
    "\n",
    "data = pd.read_csv('heart.csv')"
   ]
  },
  {
   "cell_type": "code",
   "execution_count": 103,
   "id": "eaa4ea1b-36f0-4556-a7ca-48391a23dab1",
   "metadata": {},
   "outputs": [
    {
     "data": {
      "text/html": [
       "<div>\n",
       "<style scoped>\n",
       "    .dataframe tbody tr th:only-of-type {\n",
       "        vertical-align: middle;\n",
       "    }\n",
       "\n",
       "    .dataframe tbody tr th {\n",
       "        vertical-align: top;\n",
       "    }\n",
       "\n",
       "    .dataframe thead th {\n",
       "        text-align: right;\n",
       "    }\n",
       "</style>\n",
       "<table border=\"1\" class=\"dataframe\">\n",
       "  <thead>\n",
       "    <tr style=\"text-align: right;\">\n",
       "      <th></th>\n",
       "      <th>age</th>\n",
       "      <th>gender</th>\n",
       "      <th>cp</th>\n",
       "      <th>trestbps</th>\n",
       "      <th>chol</th>\n",
       "      <th>fbs</th>\n",
       "      <th>restecg</th>\n",
       "      <th>thalach</th>\n",
       "      <th>exang</th>\n",
       "      <th>oldpeak</th>\n",
       "      <th>slope</th>\n",
       "      <th>ca</th>\n",
       "      <th>thal</th>\n",
       "      <th>target</th>\n",
       "    </tr>\n",
       "  </thead>\n",
       "  <tbody>\n",
       "    <tr>\n",
       "      <th>0</th>\n",
       "      <td>63</td>\n",
       "      <td>1</td>\n",
       "      <td>3</td>\n",
       "      <td>145</td>\n",
       "      <td>233</td>\n",
       "      <td>1</td>\n",
       "      <td>0</td>\n",
       "      <td>150</td>\n",
       "      <td>0</td>\n",
       "      <td>2.3</td>\n",
       "      <td>0</td>\n",
       "      <td>0</td>\n",
       "      <td>1</td>\n",
       "      <td>1</td>\n",
       "    </tr>\n",
       "    <tr>\n",
       "      <th>1</th>\n",
       "      <td>37</td>\n",
       "      <td>1</td>\n",
       "      <td>2</td>\n",
       "      <td>130</td>\n",
       "      <td>250</td>\n",
       "      <td>0</td>\n",
       "      <td>1</td>\n",
       "      <td>187</td>\n",
       "      <td>0</td>\n",
       "      <td>3.5</td>\n",
       "      <td>0</td>\n",
       "      <td>0</td>\n",
       "      <td>2</td>\n",
       "      <td>1</td>\n",
       "    </tr>\n",
       "    <tr>\n",
       "      <th>2</th>\n",
       "      <td>41</td>\n",
       "      <td>0</td>\n",
       "      <td>1</td>\n",
       "      <td>130</td>\n",
       "      <td>204</td>\n",
       "      <td>0</td>\n",
       "      <td>0</td>\n",
       "      <td>172</td>\n",
       "      <td>0</td>\n",
       "      <td>1.4</td>\n",
       "      <td>2</td>\n",
       "      <td>0</td>\n",
       "      <td>2</td>\n",
       "      <td>1</td>\n",
       "    </tr>\n",
       "    <tr>\n",
       "      <th>3</th>\n",
       "      <td>56</td>\n",
       "      <td>1</td>\n",
       "      <td>1</td>\n",
       "      <td>120</td>\n",
       "      <td>236</td>\n",
       "      <td>0</td>\n",
       "      <td>1</td>\n",
       "      <td>178</td>\n",
       "      <td>0</td>\n",
       "      <td>0.8</td>\n",
       "      <td>2</td>\n",
       "      <td>0</td>\n",
       "      <td>2</td>\n",
       "      <td>1</td>\n",
       "    </tr>\n",
       "    <tr>\n",
       "      <th>4</th>\n",
       "      <td>57</td>\n",
       "      <td>0</td>\n",
       "      <td>0</td>\n",
       "      <td>120</td>\n",
       "      <td>354</td>\n",
       "      <td>0</td>\n",
       "      <td>1</td>\n",
       "      <td>163</td>\n",
       "      <td>1</td>\n",
       "      <td>0.6</td>\n",
       "      <td>2</td>\n",
       "      <td>0</td>\n",
       "      <td>2</td>\n",
       "      <td>1</td>\n",
       "    </tr>\n",
       "    <tr>\n",
       "      <th>...</th>\n",
       "      <td>...</td>\n",
       "      <td>...</td>\n",
       "      <td>...</td>\n",
       "      <td>...</td>\n",
       "      <td>...</td>\n",
       "      <td>...</td>\n",
       "      <td>...</td>\n",
       "      <td>...</td>\n",
       "      <td>...</td>\n",
       "      <td>...</td>\n",
       "      <td>...</td>\n",
       "      <td>...</td>\n",
       "      <td>...</td>\n",
       "      <td>...</td>\n",
       "    </tr>\n",
       "    <tr>\n",
       "      <th>298</th>\n",
       "      <td>57</td>\n",
       "      <td>0</td>\n",
       "      <td>0</td>\n",
       "      <td>140</td>\n",
       "      <td>241</td>\n",
       "      <td>0</td>\n",
       "      <td>1</td>\n",
       "      <td>123</td>\n",
       "      <td>1</td>\n",
       "      <td>0.2</td>\n",
       "      <td>1</td>\n",
       "      <td>0</td>\n",
       "      <td>3</td>\n",
       "      <td>0</td>\n",
       "    </tr>\n",
       "    <tr>\n",
       "      <th>299</th>\n",
       "      <td>45</td>\n",
       "      <td>1</td>\n",
       "      <td>3</td>\n",
       "      <td>110</td>\n",
       "      <td>264</td>\n",
       "      <td>0</td>\n",
       "      <td>1</td>\n",
       "      <td>132</td>\n",
       "      <td>0</td>\n",
       "      <td>1.2</td>\n",
       "      <td>1</td>\n",
       "      <td>0</td>\n",
       "      <td>3</td>\n",
       "      <td>0</td>\n",
       "    </tr>\n",
       "    <tr>\n",
       "      <th>300</th>\n",
       "      <td>68</td>\n",
       "      <td>1</td>\n",
       "      <td>0</td>\n",
       "      <td>144</td>\n",
       "      <td>193</td>\n",
       "      <td>1</td>\n",
       "      <td>1</td>\n",
       "      <td>141</td>\n",
       "      <td>0</td>\n",
       "      <td>3.4</td>\n",
       "      <td>1</td>\n",
       "      <td>2</td>\n",
       "      <td>3</td>\n",
       "      <td>0</td>\n",
       "    </tr>\n",
       "    <tr>\n",
       "      <th>301</th>\n",
       "      <td>57</td>\n",
       "      <td>1</td>\n",
       "      <td>0</td>\n",
       "      <td>130</td>\n",
       "      <td>131</td>\n",
       "      <td>0</td>\n",
       "      <td>1</td>\n",
       "      <td>115</td>\n",
       "      <td>1</td>\n",
       "      <td>1.2</td>\n",
       "      <td>1</td>\n",
       "      <td>1</td>\n",
       "      <td>3</td>\n",
       "      <td>0</td>\n",
       "    </tr>\n",
       "    <tr>\n",
       "      <th>302</th>\n",
       "      <td>57</td>\n",
       "      <td>0</td>\n",
       "      <td>1</td>\n",
       "      <td>130</td>\n",
       "      <td>236</td>\n",
       "      <td>0</td>\n",
       "      <td>0</td>\n",
       "      <td>174</td>\n",
       "      <td>0</td>\n",
       "      <td>0.0</td>\n",
       "      <td>1</td>\n",
       "      <td>1</td>\n",
       "      <td>2</td>\n",
       "      <td>0</td>\n",
       "    </tr>\n",
       "  </tbody>\n",
       "</table>\n",
       "<p>303 rows × 14 columns</p>\n",
       "</div>"
      ],
      "text/plain": [
       "     age  gender  cp  trestbps  chol  fbs  restecg  thalach  exang  oldpeak  \\\n",
       "0     63       1   3       145   233    1        0      150      0      2.3   \n",
       "1     37       1   2       130   250    0        1      187      0      3.5   \n",
       "2     41       0   1       130   204    0        0      172      0      1.4   \n",
       "3     56       1   1       120   236    0        1      178      0      0.8   \n",
       "4     57       0   0       120   354    0        1      163      1      0.6   \n",
       "..   ...     ...  ..       ...   ...  ...      ...      ...    ...      ...   \n",
       "298   57       0   0       140   241    0        1      123      1      0.2   \n",
       "299   45       1   3       110   264    0        1      132      0      1.2   \n",
       "300   68       1   0       144   193    1        1      141      0      3.4   \n",
       "301   57       1   0       130   131    0        1      115      1      1.2   \n",
       "302   57       0   1       130   236    0        0      174      0      0.0   \n",
       "\n",
       "     slope  ca  thal  target  \n",
       "0        0   0     1       1  \n",
       "1        0   0     2       1  \n",
       "2        2   0     2       1  \n",
       "3        2   0     2       1  \n",
       "4        2   0     2       1  \n",
       "..     ...  ..   ...     ...  \n",
       "298      1   0     3       0  \n",
       "299      1   0     3       0  \n",
       "300      1   2     3       0  \n",
       "301      1   1     3       0  \n",
       "302      1   1     2       0  \n",
       "\n",
       "[303 rows x 14 columns]"
      ]
     },
     "execution_count": 103,
     "metadata": {},
     "output_type": "execute_result"
    }
   ],
   "source": [
    "data"
   ]
  },
  {
   "cell_type": "code",
   "execution_count": 109,
   "id": "d9f4868e-ca1a-4a0e-b91a-ff2dae2c3146",
   "metadata": {},
   "outputs": [
    {
     "data": {
      "text/plain": [
       "array([126, 131, 141, 149, 149, 157, 160, 164, 166, 167, 168, 169, 172,\n",
       "       174, 175, 175, 175, 176, 177, 177, 177, 177, 178, 180, 182, 183,\n",
       "       184, 185, 186, 187, 188, 188, 192, 192, 193, 193, 195, 196, 196,\n",
       "       197, 197, 197, 197, 197, 197, 198, 198, 199, 199, 199, 200, 201,\n",
       "       201, 201, 203, 203, 203, 204, 204, 204, 204, 204, 204, 205, 205,\n",
       "       206, 206, 207, 207, 208, 208, 209, 209, 210, 211, 211, 211, 211,\n",
       "       212, 212, 212, 212, 212, 213, 213, 214, 214, 215, 216, 216, 217,\n",
       "       218, 218, 219, 219, 219, 220, 220, 220, 221, 221, 222, 222, 223,\n",
       "       223, 223, 224, 225, 225, 226, 226, 226, 226, 227, 227, 228, 228,\n",
       "       229, 229, 229, 230, 230, 230, 231, 231, 231, 232, 232, 233, 233,\n",
       "       233, 233, 234, 234, 234, 234, 234, 234, 235, 235, 236, 236, 236,\n",
       "       237, 239, 239, 239, 239, 240, 240, 240, 240, 241, 242, 243, 243,\n",
       "       243, 243, 244, 244, 244, 245, 245, 245, 246, 246, 246, 247, 247,\n",
       "       248, 248, 249, 249, 249, 250, 250, 250, 252, 253, 253, 254, 254,\n",
       "       254, 254, 254, 255, 255, 256, 256, 256, 257, 258, 258, 258, 259,\n",
       "       260, 260, 261, 261, 262, 263, 263, 263, 264, 264, 265, 265, 266,\n",
       "       266, 267, 267, 268, 268, 269, 269, 269, 269, 269, 270, 270, 271,\n",
       "       271, 273, 273, 274, 274, 274, 275, 275, 276, 277, 277, 278, 281,\n",
       "       282, 282, 282, 282, 283, 283, 283, 284, 286, 286, 288, 288, 288,\n",
       "       289, 289, 290, 293, 294, 294, 295, 295, 298, 298, 299, 299, 300,\n",
       "       302, 302, 303, 303, 303, 304, 304, 305, 306, 307, 308, 308, 309,\n",
       "       309, 309, 311, 313, 315, 315, 318, 318, 319, 321, 322, 325, 325,\n",
       "       326, 327, 330, 330, 335, 335, 340, 341, 342, 353, 354, 360, 394,\n",
       "       407, 409, 417, 564], dtype=int64)"
      ]
     },
     "execution_count": 109,
     "metadata": {},
     "output_type": "execute_result"
    }
   ],
   "source": [
    "\n",
    "chol = data.chol\n",
    "chol1 = np.sort(chol)\n",
    "chol1"
   ]
  },
  {
   "cell_type": "code",
   "execution_count": 113,
   "id": "a1f212cf-f245-4c18-a85b-fe9f5fb9fc25",
   "metadata": {},
   "outputs": [
    {
     "data": {
      "text/plain": [
       "303"
      ]
     },
     "execution_count": 113,
     "metadata": {},
     "output_type": "execute_result"
    }
   ],
   "source": [
    "n = len(chol1)\n",
    "n"
   ]
  },
  {
   "cell_type": "code",
   "execution_count": 115,
   "id": "5777f9eb-7bfb-4efa-8f3b-a7e67c4f5250",
   "metadata": {},
   "outputs": [
    {
     "data": {
      "text/plain": [
       "76"
      ]
     },
     "execution_count": 115,
     "metadata": {},
     "output_type": "execute_result"
    }
   ],
   "source": [
    "#Calculate Q1\n",
    "index_Q1 = Q1 = int((25/100)*(n+1))\n",
    "index_Q1\n"
   ]
  },
  {
   "cell_type": "code",
   "execution_count": 117,
   "id": "46ed9825-abde-4139-b9e4-72c929a02914",
   "metadata": {},
   "outputs": [
    {
     "data": {
      "text/plain": [
       "228"
      ]
     },
     "execution_count": 117,
     "metadata": {},
     "output_type": "execute_result"
    }
   ],
   "source": [
    "#Calculate Q2\n",
    "index_Q3 = int((75/100)*(n+1))\n",
    "index_Q3"
   ]
  },
  {
   "cell_type": "code",
   "execution_count": 121,
   "id": "4ca9d065-ad2a-48a6-8e89-b8d2b519abe2",
   "metadata": {},
   "outputs": [
    {
     "data": {
      "text/plain": [
       "211"
      ]
     },
     "execution_count": 121,
     "metadata": {},
     "output_type": "execute_result"
    }
   ],
   "source": [
    "Q1 = chol1[index_Q1]\n",
    "Q1"
   ]
  },
  {
   "cell_type": "code",
   "execution_count": 123,
   "id": "57c6ac2a-a411-40d8-aa1b-c9a83ca105ae",
   "metadata": {},
   "outputs": [
    {
     "data": {
      "text/plain": [
       "275"
      ]
     },
     "execution_count": 123,
     "metadata": {},
     "output_type": "execute_result"
    }
   ],
   "source": [
    "Q3 = chol1[index_Q3]\n",
    "Q3"
   ]
  },
  {
   "cell_type": "code",
   "execution_count": 125,
   "id": "593fc8d2-8baa-4172-be46-f3e5da56c1b1",
   "metadata": {},
   "outputs": [
    {
     "data": {
      "text/plain": [
       "64"
      ]
     },
     "execution_count": 125,
     "metadata": {},
     "output_type": "execute_result"
    }
   ],
   "source": [
    "IQR =  Q3-Q1\n",
    "IQR"
   ]
  },
  {
   "cell_type": "code",
   "execution_count": null,
   "id": "d146fd75-7941-41b5-b677-0d776de00510",
   "metadata": {},
   "outputs": [],
   "source": []
  },
  {
   "cell_type": "code",
   "execution_count": null,
   "id": "8604763a-1dfa-458f-9682-c51867639557",
   "metadata": {},
   "outputs": [],
   "source": []
  },
  {
   "cell_type": "code",
   "execution_count": null,
   "id": "58035666-cbee-46a5-9e35-ee688e40b50f",
   "metadata": {},
   "outputs": [],
   "source": []
  }
 ],
 "metadata": {
  "kernelspec": {
   "display_name": "Python 3 (ipykernel)",
   "language": "python",
   "name": "python3"
  },
  "language_info": {
   "codemirror_mode": {
    "name": "ipython",
    "version": 3
   },
   "file_extension": ".py",
   "mimetype": "text/x-python",
   "name": "python",
   "nbconvert_exporter": "python",
   "pygments_lexer": "ipython3",
   "version": "3.12.4"
  }
 },
 "nbformat": 4,
 "nbformat_minor": 5
}
